{
  "nbformat": 4,
  "nbformat_minor": 0,
  "metadata": {
    "colab": {
      "provenance": [],
      "collapsed_sections": []
    },
    "kernelspec": {
      "name": "python3",
      "display_name": "Python 3"
    },
    "language_info": {
      "name": "python"
    }
  },
  "cells": [
    {
      "cell_type": "code",
      "metadata": {
        "colab": {
          "base_uri": "https://localhost:8080/"
        },
        "id": "XiaB4v6AS9Ze",
        "outputId": "af94f8dc-7ae2-4ffb-b97c-7ee4d1960cf5"
      },
      "source": [
        "from google.colab import drive\n",
        "drive.mount('/content/drive', force_remount=True)"
      ],
      "execution_count": 1,
      "outputs": [
        {
          "output_type": "stream",
          "name": "stdout",
          "text": [
            "Mounted at /content/drive\n"
          ]
        }
      ]
    },
    {
      "cell_type": "code",
      "metadata": {
        "colab": {
          "base_uri": "https://localhost:8080/",
          "height": 671
        },
        "id": "VhhX3sOTYjJT",
        "outputId": "6b4c4385-6845-440a-dab5-dad979273140"
      },
      "source": [
        "#Dataset preparation\n",
        "import json\n",
        "import pandas as pd\n",
        "\n",
        "path = '/content/drive/MyDrive/flood_project/Training_dataset/'\n",
        "testing_path = '/content/drive/MyDrive/flood_project/test_set/'\n",
        "\n",
        "#Load the training dataset using metadata and label data.\n",
        "train_df = pd.read_csv(path + 'devset_images_gt.csv')\n",
        "train_df.columns=(['image_id', 'label'])\n",
        "train_df[\"image_id\"] = train_df[\"image_id\"].astype(str)\n",
        "train_df = train_df[train_df.columns[[0, 1]]]\n",
        "\n",
        "json_filename = path + \"devset_images_metadata.json\"\n",
        "with open(json_filename) as json_file:\n",
        "    data = json.load(json_file)\n",
        "\n",
        "required_columns = ['description', 'user_tags', 'image_id', 'title']\n",
        "json_df = pd.DataFrame(data['images'], columns = required_columns)\n",
        "print(json_df.head())\n",
        "#merge label and json dataframes\n",
        "train_df = pd.merge(train_df, json_df, how='inner')\n",
        "train_df.head()\n",
        "\n",
        "\n",
        "#Load the testing dataset using metadata and label data.\n",
        "test_df = pd.read_csv(testing_path + 'testset_images_gt.csv')\n",
        "test_df.columns=(['image_id', 'label'])\n",
        "test_df[\"image_id\"] = test_df[\"image_id\"].astype(str)\n",
        "test_df = test_df[test_df.columns[[0, 1]]]\n",
        "\n",
        "json_filename = testing_path + \"testset_images_metadata.json\"\n",
        "with open(json_filename) as json_file:\n",
        "    data = json.load(json_file)\n",
        "\n",
        "required_columns = ['description', 'user_tags', 'image_id', 'title']\n",
        "json_df = pd.DataFrame(data['images'], columns = required_columns)\n",
        "#merge label and json dataframes\n",
        "test_df = pd.merge(test_df, json_df, how='inner')\n",
        "test_df.head()"
      ],
      "execution_count": 3,
      "outputs": [
        {
          "output_type": "stream",
          "name": "stdout",
          "text": [
            "                                         description  \\\n",
            "0                                               None   \n",
            "1                                               None   \n",
            "2  After the flood, the boarded up stores bear up...   \n",
            "3                                               None   \n",
            "4                                               None   \n",
            "\n",
            "                                           user_tags    image_id  \\\n",
            "0                 [2009 road trip, obrero road trip]  3519864665   \n",
            "1   [daulatabad, daulatabad fort, ellora, road trip]  4896119055   \n",
            "2  [cedarrapids, createsouthroadtrip2009, disaste...  3468473862   \n",
            "3          [cork, enchente, flood, ireland, irlanda]  4120853942   \n",
            "4  [athens georgia, brown, current, flood, mud, r...  4436083254   \n",
            "\n",
            "                    title  \n",
            "0         Biltmore Estate  \n",
            "1             Chand Minar  \n",
            "2      Uplifting Graffiti  \n",
            "3                DSCF6487  \n",
            "4  Oconoe river - flooded  \n"
          ]
        },
        {
          "output_type": "execute_result",
          "data": {
            "text/plain": [
              "     image_id  label                                        description  \\\n",
              "0   347783223      0  The site of former mass graves. The graves use...   \n",
              "1  6310531921      1  The rains had hit hard in Siem Reap and the pa...   \n",
              "2  8329435841      1  War Eagle Mill, located along the War Eagle Cr...   \n",
              "3  3330434964      0  Some guy is keeping some buffalo down the road...   \n",
              "4  2862785695      0  I think this was a restaurant building, but I'...   \n",
              "\n",
              "                                           user_tags  \\\n",
              "0                    [ cambodia,  history, genocide]   \n",
              "1                                                 []   \n",
              "2  [arkansas, creek, eureka springs, gristmill, h...   \n",
              "3  [bogue chitto, buffalo, cannon, eos, farm, hom...   \n",
              "4  [abandoned, amusement park, boarded up, canon ...   \n",
              "\n",
              "                                 title  \n",
              "0                       Killing fields  \n",
              "1  Cambodia - flooded path to temple 2  \n",
              "2                       War Eagle Mill  \n",
              "3                        20090131_7286  \n",
              "4                             building  "
            ],
            "text/html": [
              "\n",
              "  <div id=\"df-09e4bc74-57fe-4af1-92c2-818a0ac003bf\">\n",
              "    <div class=\"colab-df-container\">\n",
              "      <div>\n",
              "<style scoped>\n",
              "    .dataframe tbody tr th:only-of-type {\n",
              "        vertical-align: middle;\n",
              "    }\n",
              "\n",
              "    .dataframe tbody tr th {\n",
              "        vertical-align: top;\n",
              "    }\n",
              "\n",
              "    .dataframe thead th {\n",
              "        text-align: right;\n",
              "    }\n",
              "</style>\n",
              "<table border=\"1\" class=\"dataframe\">\n",
              "  <thead>\n",
              "    <tr style=\"text-align: right;\">\n",
              "      <th></th>\n",
              "      <th>image_id</th>\n",
              "      <th>label</th>\n",
              "      <th>description</th>\n",
              "      <th>user_tags</th>\n",
              "      <th>title</th>\n",
              "    </tr>\n",
              "  </thead>\n",
              "  <tbody>\n",
              "    <tr>\n",
              "      <th>0</th>\n",
              "      <td>347783223</td>\n",
              "      <td>0</td>\n",
              "      <td>The site of former mass graves. The graves use...</td>\n",
              "      <td>[ cambodia,  history, genocide]</td>\n",
              "      <td>Killing fields</td>\n",
              "    </tr>\n",
              "    <tr>\n",
              "      <th>1</th>\n",
              "      <td>6310531921</td>\n",
              "      <td>1</td>\n",
              "      <td>The rains had hit hard in Siem Reap and the pa...</td>\n",
              "      <td>[]</td>\n",
              "      <td>Cambodia - flooded path to temple 2</td>\n",
              "    </tr>\n",
              "    <tr>\n",
              "      <th>2</th>\n",
              "      <td>8329435841</td>\n",
              "      <td>1</td>\n",
              "      <td>War Eagle Mill, located along the War Eagle Cr...</td>\n",
              "      <td>[arkansas, creek, eureka springs, gristmill, h...</td>\n",
              "      <td>War Eagle Mill</td>\n",
              "    </tr>\n",
              "    <tr>\n",
              "      <th>3</th>\n",
              "      <td>3330434964</td>\n",
              "      <td>0</td>\n",
              "      <td>Some guy is keeping some buffalo down the road...</td>\n",
              "      <td>[bogue chitto, buffalo, cannon, eos, farm, hom...</td>\n",
              "      <td>20090131_7286</td>\n",
              "    </tr>\n",
              "    <tr>\n",
              "      <th>4</th>\n",
              "      <td>2862785695</td>\n",
              "      <td>0</td>\n",
              "      <td>I think this was a restaurant building, but I'...</td>\n",
              "      <td>[abandoned, amusement park, boarded up, canon ...</td>\n",
              "      <td>building</td>\n",
              "    </tr>\n",
              "  </tbody>\n",
              "</table>\n",
              "</div>\n",
              "      <button class=\"colab-df-convert\" onclick=\"convertToInteractive('df-09e4bc74-57fe-4af1-92c2-818a0ac003bf')\"\n",
              "              title=\"Convert this dataframe to an interactive table.\"\n",
              "              style=\"display:none;\">\n",
              "        \n",
              "  <svg xmlns=\"http://www.w3.org/2000/svg\" height=\"24px\"viewBox=\"0 0 24 24\"\n",
              "       width=\"24px\">\n",
              "    <path d=\"M0 0h24v24H0V0z\" fill=\"none\"/>\n",
              "    <path d=\"M18.56 5.44l.94 2.06.94-2.06 2.06-.94-2.06-.94-.94-2.06-.94 2.06-2.06.94zm-11 1L8.5 8.5l.94-2.06 2.06-.94-2.06-.94L8.5 2.5l-.94 2.06-2.06.94zm10 10l.94 2.06.94-2.06 2.06-.94-2.06-.94-.94-2.06-.94 2.06-2.06.94z\"/><path d=\"M17.41 7.96l-1.37-1.37c-.4-.4-.92-.59-1.43-.59-.52 0-1.04.2-1.43.59L10.3 9.45l-7.72 7.72c-.78.78-.78 2.05 0 2.83L4 21.41c.39.39.9.59 1.41.59.51 0 1.02-.2 1.41-.59l7.78-7.78 2.81-2.81c.8-.78.8-2.07 0-2.86zM5.41 20L4 18.59l7.72-7.72 1.47 1.35L5.41 20z\"/>\n",
              "  </svg>\n",
              "      </button>\n",
              "      \n",
              "  <style>\n",
              "    .colab-df-container {\n",
              "      display:flex;\n",
              "      flex-wrap:wrap;\n",
              "      gap: 12px;\n",
              "    }\n",
              "\n",
              "    .colab-df-convert {\n",
              "      background-color: #E8F0FE;\n",
              "      border: none;\n",
              "      border-radius: 50%;\n",
              "      cursor: pointer;\n",
              "      display: none;\n",
              "      fill: #1967D2;\n",
              "      height: 32px;\n",
              "      padding: 0 0 0 0;\n",
              "      width: 32px;\n",
              "    }\n",
              "\n",
              "    .colab-df-convert:hover {\n",
              "      background-color: #E2EBFA;\n",
              "      box-shadow: 0px 1px 2px rgba(60, 64, 67, 0.3), 0px 1px 3px 1px rgba(60, 64, 67, 0.15);\n",
              "      fill: #174EA6;\n",
              "    }\n",
              "\n",
              "    [theme=dark] .colab-df-convert {\n",
              "      background-color: #3B4455;\n",
              "      fill: #D2E3FC;\n",
              "    }\n",
              "\n",
              "    [theme=dark] .colab-df-convert:hover {\n",
              "      background-color: #434B5C;\n",
              "      box-shadow: 0px 1px 3px 1px rgba(0, 0, 0, 0.15);\n",
              "      filter: drop-shadow(0px 1px 2px rgba(0, 0, 0, 0.3));\n",
              "      fill: #FFFFFF;\n",
              "    }\n",
              "  </style>\n",
              "\n",
              "      <script>\n",
              "        const buttonEl =\n",
              "          document.querySelector('#df-09e4bc74-57fe-4af1-92c2-818a0ac003bf button.colab-df-convert');\n",
              "        buttonEl.style.display =\n",
              "          google.colab.kernel.accessAllowed ? 'block' : 'none';\n",
              "\n",
              "        async function convertToInteractive(key) {\n",
              "          const element = document.querySelector('#df-09e4bc74-57fe-4af1-92c2-818a0ac003bf');\n",
              "          const dataTable =\n",
              "            await google.colab.kernel.invokeFunction('convertToInteractive',\n",
              "                                                     [key], {});\n",
              "          if (!dataTable) return;\n",
              "\n",
              "          const docLinkHtml = 'Like what you see? Visit the ' +\n",
              "            '<a target=\"_blank\" href=https://colab.research.google.com/notebooks/data_table.ipynb>data table notebook</a>'\n",
              "            + ' to learn more about interactive tables.';\n",
              "          element.innerHTML = '';\n",
              "          dataTable['output_type'] = 'display_data';\n",
              "          await google.colab.output.renderOutput(dataTable, element);\n",
              "          const docLink = document.createElement('div');\n",
              "          docLink.innerHTML = docLinkHtml;\n",
              "          element.appendChild(docLink);\n",
              "        }\n",
              "      </script>\n",
              "    </div>\n",
              "  </div>\n",
              "  "
            ]
          },
          "metadata": {},
          "execution_count": 3
        }
      ]
    },
    {
      "cell_type": "code",
      "metadata": {
        "id": "5iSHctKf81pC"
      },
      "source": [
        "from sentence_transformers import SentenceTransformer\n",
        "model = SentenceTransformer('bert-base-nli-mean-tokens')"
      ],
      "execution_count": null,
      "outputs": []
    },
    {
      "cell_type": "code",
      "metadata": {
        "id": "89cvByyJ9DVb"
      },
      "source": [
        "train_df = train_df.drop(columns=['user_tags','image_id'])\n",
        "test_df = test_df.drop(columns=['user_tags','image_id'])\n",
        "train_df = train_df.fillna(\" \")\n",
        "test_df = test_df.fillna(\" \")"
      ],
      "execution_count": 5,
      "outputs": []
    },
    {
      "cell_type": "code",
      "metadata": {
        "id": "DflRyDNw9fjr"
      },
      "source": [
        "X_train = train_df[['description', 'title']]\n",
        "y_train = train_df['label'].tolist()\n",
        "X_test = test_df[['description', 'title']]\n",
        "y_test = test_df['label'].tolist()"
      ],
      "execution_count": 6,
      "outputs": []
    },
    {
      "cell_type": "code",
      "metadata": {
        "id": "hCckfyvE9Xdh"
      },
      "source": [
        "#Generating the embeddings for description and title\n",
        "sentence_embeddings_description_train = model.encode(X_train.loc[:,'description'].tolist())\n",
        "sentence_embeddings_title_train = model.encode(X_train.loc[:,'title'].tolist())\n"
      ],
      "execution_count": 7,
      "outputs": []
    },
    {
      "cell_type": "code",
      "metadata": {
        "id": "22eZXajqk6As"
      },
      "source": [
        "sentence_embeddings_description_test = model.encode(X_test.loc[:,'description'].to_list())\n",
        "sentence_embeddings_title_test = model.encode(X_test.loc[:,'title'].to_list())"
      ],
      "execution_count": 8,
      "outputs": []
    },
    {
      "cell_type": "code",
      "metadata": {
        "id": "GHj0gqiz98AH"
      },
      "source": [
        "#Concatenating the embeddings\n",
        "X_train = []\n",
        "for i in range(len(sentence_embeddings_description_train)):\n",
        "  X_train.append(sentence_embeddings_description_train[i].tolist() + sentence_embeddings_title_train[i].tolist())\n",
        "X_test = []\n",
        "for i in range(len(sentence_embeddings_description_test)):\n",
        "  X_test.append(sentence_embeddings_description_test[i].tolist() + sentence_embeddings_title_test[i].tolist())"
      ],
      "execution_count": 9,
      "outputs": []
    },
    {
      "cell_type": "code",
      "metadata": {
        "colab": {
          "base_uri": "https://localhost:8080/"
        },
        "id": "HmNeQ-yGsokj",
        "outputId": "636c7de3-e346-4d08-f39e-27e1ef8184fe"
      },
      "source": [
        "#Model building and training\n",
        "from sklearn.svm import SVC\n",
        "svm = SVC(kernel='rbf')\n",
        "\n",
        "svm.fit(X_train, y_train)"
      ],
      "execution_count": null,
      "outputs": [
        {
          "output_type": "execute_result",
          "data": {
            "text/plain": [
              "SVC(C=1.0, break_ties=False, cache_size=200, class_weight=None, coef0=0.0,\n",
              "    decision_function_shape='ovr', degree=3, gamma='scale', kernel='linear',\n",
              "    max_iter=-1, probability=False, random_state=None, shrinking=True,\n",
              "    tol=0.001, verbose=False)"
            ]
          },
          "metadata": {},
          "execution_count": 12
        }
      ]
    },
    {
      "cell_type": "code",
      "metadata": {
        "colab": {
          "base_uri": "https://localhost:8080/"
        },
        "id": "4uMM65BMoN_W",
        "outputId": "15d78f74-4766-4b27-ff97-585a492e1510"
      },
      "source": [
        "#Test set evaluation metrics\n",
        "from sklearn.metrics import classification_report\n",
        "\n",
        "#predict response using SVM\n",
        "svm_y_pred = svm.predict(X_test)\n",
        "\n",
        "# calculate report for svm model\n",
        "svm_report = classification_report(y_test, svm_y_pred, target_names=['not flooded', 'flooded'])\n",
        "\n",
        "print('SVM Model classification report is: \\n', svm_report)"
      ],
      "execution_count": null,
      "outputs": [
        {
          "output_type": "stream",
          "name": "stdout",
          "text": [
            "SVM Model classification report is: \n",
            "               precision    recall  f1-score   support\n",
            "\n",
            " not flooded       0.80      0.77      0.78       839\n",
            "     flooded       0.62      0.65      0.64       480\n",
            "\n",
            "    accuracy                           0.73      1319\n",
            "   macro avg       0.71      0.71      0.71      1319\n",
            "weighted avg       0.73      0.73      0.73      1319\n",
            "\n"
          ]
        }
      ]
    },
    {
      "cell_type": "code",
      "metadata": {
        "id": "jOrVgdu9sGf2"
      },
      "source": [
        "#Fine tuning the model using GridSearch\n",
        "from sklearn.model_selection import GridSearchCV\n",
        " \n",
        "# defining parameter range\n",
        "param_grid = {'C': [0.1, 1, 10, 100, 1000],\n",
        "              'gamma': [2, 1, 0.1, 0.01, 0.001, 0.0001],\n",
        "              'kernel': ['rbf', 'linear']}\n",
        " \n",
        "svm_grid = GridSearchCV(SVC(), param_grid, refit = True, verbose = 3)\n",
        " \n",
        "# fitting the model for grid search\n",
        "svm_grid.fit(X_train, y_train)\n",
        "\n",
        "# print how our model looks after hyper-parameter tuning\n",
        "print(svm_grid.best_estimator_)"
      ],
      "execution_count": null,
      "outputs": []
    },
    {
      "cell_type": "code",
      "metadata": {
        "colab": {
          "base_uri": "https://localhost:8080/"
        },
        "id": "d8Ej9TTF1m9-",
        "outputId": "8dc3ea06-b8a9-4aed-9490-d20e319d2f90"
      },
      "source": [
        "#Fine-tuned Model\n",
        "# C=1, gamma=0.001, kernel=rbf, score=0.795, total=  37.6s\n",
        "from sklearn.svm import SVC\n",
        "svm = SVC(kernel='rbf', C=1, gamma=0.001)\n",
        "\n",
        "svm.fit(X_train, y_train)"
      ],
      "execution_count": 10,
      "outputs": [
        {
          "output_type": "execute_result",
          "data": {
            "text/plain": [
              "SVC(C=1, gamma=0.001)"
            ]
          },
          "metadata": {},
          "execution_count": 10
        }
      ]
    },
    {
      "cell_type": "code",
      "metadata": {
        "colab": {
          "base_uri": "https://localhost:8080/"
        },
        "id": "fCzs_Irs13bR",
        "outputId": "79b3607a-37b8-48cd-abb7-c13e33c44a1b"
      },
      "source": [
        "#Evaluation of the fine-tuned model\n",
        "from sklearn.metrics import classification_report\n",
        "\n",
        "#predict response using SVM\n",
        "svm_y_pred = svm.predict(X_test)\n",
        "\n",
        "# calculate report for svm model\n",
        "svm_report = classification_report(y_test, svm_y_pred, target_names=['not flooded', 'flooded'])\n",
        "\n",
        "print('SVM Model classification report is: \\n', svm_report)"
      ],
      "execution_count": 11,
      "outputs": [
        {
          "output_type": "stream",
          "name": "stdout",
          "text": [
            "SVM Model classification report is: \n",
            "               precision    recall  f1-score   support\n",
            "\n",
            " not flooded       0.79      0.91      0.84       839\n",
            "     flooded       0.78      0.57      0.66       480\n",
            "\n",
            "    accuracy                           0.79      1319\n",
            "   macro avg       0.78      0.74      0.75      1319\n",
            "weighted avg       0.79      0.79      0.78      1319\n",
            "\n"
          ]
        }
      ]
    }
  ]
}